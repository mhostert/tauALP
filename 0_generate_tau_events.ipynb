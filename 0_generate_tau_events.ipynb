{
 "cells": [
  {
   "cell_type": "code",
   "execution_count": 1,
   "id": "9e2440d6",
   "metadata": {},
   "outputs": [],
   "source": [
    "%load_ext autoreload\n",
    "%autoreload 2"
   ]
  },
  {
   "cell_type": "code",
   "execution_count": 2,
   "id": "b23b9aa7",
   "metadata": {},
   "outputs": [],
   "source": [
    "import numpy as np\n",
    "import pandas as pd\n",
    "\n",
    "from alp import beams\n",
    "from alp import models\n",
    "from alp import exp\n",
    "from alp.exp_dicts import EXPERIMENTS"
   ]
  },
  {
   "cell_type": "markdown",
   "id": "6dae40d1",
   "metadata": {},
   "source": [
    "# Saving Pythia8 events to pickled files for easier use"
   ]
  },
  {
   "cell_type": "code",
   "execution_count": 3,
   "id": "01a712cc",
   "metadata": {},
   "outputs": [
    {
     "name": "stdout",
     "output_type": "stream",
     "text": [
      "Found 303 files matching pythia8_events/soft_120_GeV_*.txt\n",
      "Found 303 files matching pythia8_events/soft_400_GeV_*.txt\n",
      "Found 202 files matching pythia8_events/soft_13.6_TeV_*.txt\n"
     ]
    }
   ],
   "source": [
    "alp = models.ALP(0.5, 1e8, c_lepton=np.diag([1, 1, 1]))\n",
    "\n",
    "NUMI_files = 'pythia8_events/soft_120_GeV'\n",
    "SPS_files  = 'pythia8_events/soft_400_GeV'\n",
    "LHC_files  = 'pythia8_events/soft_13.6_TeV'\n",
    "\n",
    "# Test that the Experiment class can load also the list of files\n",
    "NUMI      = exp.Experiment(NUMI_files, exp_dic=EXPERIMENTS['NoVA'], alp=alp, savemem=False)\n",
    "SPS        = exp.Experiment(SPS_files, exp_dic=EXPERIMENTS['SHiP'], alp=alp, savemem=False)\n",
    "LHC  = exp.Experiment(LHC_files, exp_dic=EXPERIMENTS['FASER'], alp=alp, savemem=False)"
   ]
  },
  {
   "cell_type": "code",
   "execution_count": 4,
   "id": "bc6e8711",
   "metadata": {},
   "outputs": [
    {
     "name": "stdout",
     "output_type": "stream",
     "text": [
      "Found 303 files matching pythia8_events/soft_120_GeV_*.txt\n",
      "Found 303 files matching pythia8_events/soft_400_GeV_*.txt\n",
      "Found 202 files matching pythia8_events/soft_13.6_TeV_*.txt\n"
     ]
    }
   ],
   "source": [
    "df_numi = exp.load_events(NUMI_files)\n",
    "exp.save_events_to_pickle(df_numi, 'pythia8_events/numi_120GeV.pkl')\n",
    "\n",
    "df_sps = exp.load_events(SPS_files)\n",
    "exp.save_events_to_pickle(df_sps, 'pythia8_events/sps_400GeV.pkl')\n",
    "\n",
    "df_lhc = exp.load_events(LHC_files)\n",
    "exp.save_events_to_pickle(df_lhc, 'pythia8_events/lhc_13.6TeV.pkl')"
   ]
  },
  {
   "cell_type": "code",
   "execution_count": 5,
   "id": "b4306fec",
   "metadata": {},
   "outputs": [
    {
     "name": "stdout",
     "output_type": "stream",
     "text": [
      "Total number of Pythia8 events: 1163807 3093151 1111067\n"
     ]
    }
   ],
   "source": [
    "print(\"Total number of Pythia8 events:\", NUMI.nevents, SPS.nevents, LHC.nevents)"
   ]
  },
  {
   "cell_type": "markdown",
   "id": "31e6bbc8",
   "metadata": {},
   "source": [
    "# Save instances of the Experiment class to pickle files for faster loading"
   ]
  },
  {
   "cell_type": "code",
   "execution_count": 6,
   "id": "efdf57c2",
   "metadata": {},
   "outputs": [],
   "source": [
    "### Pythia8 tau events\n",
    "NUMI_files = 'pythia8_events/numi_120GeV.pkl'\n",
    "SPS_files  = 'pythia8_events/sps_400GeV.pkl'\n",
    "LHC_files  = 'pythia8_events/lhc_13.6TeV.pkl'\n"
   ]
  },
  {
   "cell_type": "code",
   "execution_count": 7,
   "id": "29c91592",
   "metadata": {},
   "outputs": [
    {
     "name": "stdout",
     "output_type": "stream",
     "text": [
      " "
     ]
    },
    {
     "name": "stdout",
     "output_type": "stream",
     "text": [
      "         150771 function calls in 58.649 seconds\n",
      "\n",
      "   Ordered by: internal time\n",
      "\n",
      "   ncalls  tottime  percall  cumtime  percall filename:lineno(function)\n",
      "      180    8.144    0.045    8.144    0.045 transform4D.py:41(cartesian_t)\n",
      "       15    6.931    0.462   53.119    3.541 exp.py:381(get_alp_events)\n",
      "      180    5.841    0.032   13.986    0.078 boost_p4.py:45(cartesian_t)\n",
      "      240    4.853    0.020    4.859    0.020 numpy.py:116(_array_from_columns)\n",
      "       60    4.257    0.071   34.862    0.581 exp.py:324(generate_alp_events)\n",
      "      937    3.764    0.004    3.780    0.004 numpy.py:1723(_wrap_result)\n",
      "       60    3.368    0.056   18.084    0.301 exp.py:286(sample_alp_daughter_4momenta)\n",
      "      217    2.809    0.013    2.809    0.013 mag2.py:32(xy_z)\n",
      "       15    1.939    0.129   55.214    3.681 exp.py:512(get_alps_in_acceptance)\n",
      "      180    1.685    0.009   17.099    0.095 boost_p4.py:110(cartesian_t_xy_z_t)\n",
      "       37    1.555    0.042    5.809    0.157 unit.py:33(xy_z)\n",
      "     3881    1.389    0.000    1.394    0.000 numpy.py:193(_getitem)\n",
      "      194    1.336    0.007    1.395    0.007 phase_space.py:103(v_2body)\n",
      "       37    1.326    0.036    1.329    0.036 numpy.py:1437(_wrap_result)\n",
      "      104    1.043    0.010    1.043    0.010 {method 'repeat' of 'numpy.ndarray' objects}\n",
      "      111    0.825    0.007    2.560    0.023 _type_check_impl.py:366(nan_to_num)\n",
      "      180    0.715    0.004   19.977    0.111 boost_p4.py:770(dispatch)\n",
      "      111    0.609    0.005    0.609    0.005 _ufunclike_impl.py:71(isposinf)\n",
      "       15    0.591    0.039   55.965    3.731 exp.py:626(get_event_rate)\n",
      "      126    0.578    0.005    0.578    0.005 {built-in method numpy.array}\n",
      "       15    0.560    0.037    0.560    0.037 {built-in method _pickle.load}\n",
      "       15    0.559    0.037    1.146    0.076 models.py:384(diff_BR_tau_to_rho_nu_a)\n",
      "      111    0.546    0.005    0.546    0.005 _ufunclike_impl.py:140(isneginf)\n",
      "       60    0.449    0.007    0.449    0.007 exp.py:278(sample_alp_energy_spectrum)\n",
      "       30    0.381    0.013    0.744    0.025 models.py:928(Iv_mvv_integral)\n",
      "       15    0.327    0.022   58.641    3.909 exp.py:146(__init__)\n",
      "       37    0.312    0.008    1.693    0.046 mag.py:33(xy_z)\n",
      "       15    0.311    0.021    0.696    0.046 models.py:355(diff_BR_tau_to_pi_nu_a)\n",
      "       37    0.273    0.007    7.413    0.200 unit.py:93(dispatch)\n",
      "      480    0.268    0.001    0.268    0.001 models.py:916(Power)\n",
      "       15    0.174    0.012    0.761    0.051 models.py:412(diff_BR_tau_to_nu_nu_e_a)\n",
      "       15    0.163    0.011    0.743    0.050 models.py:438(diff_BR_tau_to_nu_nu_mu_a)\n",
      "      120    0.154    0.001    0.155    0.001 numeric.py:300(full)\n",
      "       60    0.126    0.002    0.159    0.003 exp.py:666(get_signal_prob_decay)\n",
      "      243    0.103    0.000    0.103    0.000 {method 'reduce' of 'numpy.ufunc' objects}\n",
      "       30    0.095    0.003    0.095    0.003 models.py:920(Log)\n",
      "       63    0.059    0.001    0.059    0.001 numeric.py:65(zeros_like)\n",
      "       60    0.041    0.001    3.388    0.056 models.py:305(tau_diff_BR)\n",
      "       60    0.031    0.001    0.033    0.001 models.py:145(prob_decay)\n",
      "      124    0.024    0.000    0.024    0.000 {built-in method numpy.zeros}\n",
      "      809    0.010    0.000    0.010    0.000 {built-in method numpy.empty}\n",
      "      937    0.008    0.000    0.009    0.000 _methods.py:4470(_flavor_of)\n",
      "    11764    0.008    0.000    0.035    0.000 {method 'view' of 'numpy.ndarray' objects}\n",
      "        1    0.007    0.007   58.649   58.649 <string>:1(<module>)\n",
      "      495    0.007    0.000    0.016    0.000 numpy.py:1904(__array_finalize__)\n",
      "     9097    0.005    0.000    0.012    0.000 numpy.py:265(_has)\n",
      "      569    0.005    0.000    0.006    0.000 numpy.py:376(_is_type_safe)\n",
      "      240    0.004    0.000    4.874    0.020 numpy.py:1956(array)\n",
      "     9097    0.004    0.000    0.006    0.000 {built-in method builtins.all}\n",
      "     6473    0.003    0.000    0.012    0.000 {built-in method builtins.hasattr}\n",
      "    22225    0.003    0.000    0.003    0.000 numpy.py:302(<genexpr>)\n",
      "     3881    0.002    0.000    1.396    0.000 numpy.py:403(__getitem__)\n",
      "     1154    0.002    0.000    0.012    0.000 _methods.py:4352(_aztype)\n",
      "      180    0.002    0.000   19.980    0.111 _methods.py:3848(boost_p4)\n",
      "      180    0.002    0.000    0.010    0.000 t.py:100(dispatch)\n",
      "       15    0.002    0.000    0.002    0.000 {built-in method io.open}\n",
      "      180    0.002    0.000    0.009    0.000 x.py:42(dispatch)\n",
      "       60    0.002    0.000    0.002    0.000 numeric.py:218(ones_like)\n",
      "     1048    0.002    0.000    0.002    0.000 <frozen importlib._bootstrap>:1207(_handle_fromlist)\n",
      "      180    0.002    0.000    0.009    0.000 z.py:70(dispatch)\n",
      "      937    0.002    0.000    0.003    0.000 _ufunc_config.py:410(__enter__)\n",
      "      180    0.002    0.000    0.008    0.000 y.py:42(dispatch)\n",
      "      111    0.002    0.000    0.002    0.000 _type_check_impl.py:356(_getmaxmin)\n",
      "    12182    0.001    0.000    0.001    0.000 {built-in method builtins.isinstance}\n",
      "     3351    0.001    0.000    0.010    0.000 numpy.py:1705(azimuthal)\n",
      "     3414    0.001    0.000    0.001    0.000 {method 'get' of 'dict' objects}\n",
      "     3462    0.001    0.000    0.007    0.000 numpy.py:455(__array_finalize__)\n",
      "      254    0.001    0.000    0.002    0.000 numpy.py:305(_toarrays)\n",
      "      937    0.001    0.000    0.001    0.000 _ufunc_config.py:400(__init__)\n",
      "     2475    0.001    0.000    0.002    0.000 numpy.py:1908(<genexpr>)\n",
      "      180    0.001    0.000    0.010    0.000 _methods.py:3421(x)\n",
      "      360    0.001    0.000    0.002    0.000 _methods.py:4432(_get_handler_index)\n",
      "     5757    0.001    0.000    0.001    0.000 {built-in method builtins.issubclass}\n",
      "      240    0.001    0.000    4.868    0.020 numpy.py:1650(__new__)\n",
      "       74    0.001    0.000    0.002    0.000 numpy.py:1583(__array_finalize__)\n",
      "      180    0.001    0.000    0.012    0.000 _methods.py:3792(t)\n",
      "      180    0.001    0.000    0.010    0.000 _methods.py:3552(z)\n",
      "       60    0.001    0.000    0.001    0.000 _methods.py:76(_count_reduce_items)\n",
      "      180    0.001    0.000    0.009    0.000 _methods.py:3427(y)\n",
      "      937    0.001    0.000    0.001    0.000 {method 'set' of '_contextvars.ContextVar' objects}\n",
      "      794    0.001    0.000    0.005    0.000 _methods.py:4364(_ltype)\n",
      "      937    0.001    0.000    0.001    0.000 {built-in method numpy._core._multiarray_umath._make_extobj}\n",
      "      937    0.001    0.000    0.002    0.000 _ufunc_config.py:426(__exit__)\n",
      "     1154    0.001    0.000    0.005    0.000 numpy.py:472(elements)\n",
      "      937    0.001    0.000    0.001    0.000 {method 'reset' of '_contextvars.ContextVar' objects}\n",
      "      254    0.001    0.000    0.001    0.000 numpy.py:340(_shape_of)\n",
      "     1417    0.001    0.000    0.002    0.000 {built-in method builtins.any}\n",
      "     3010    0.001    0.000    0.001    0.000 {built-in method builtins.len}\n",
      "       60    0.001    0.000    0.023    0.000 _methods.py:110(_mean)\n",
      "     2271    0.001    0.000    0.005    0.000 numpy.py:1711(longitudinal)\n",
      "      960    0.001    0.000    0.001    0.000 numpy.py:136(<lambda>)\n",
      "     2382    0.001    0.000    0.003    0.000 numpy.py:584(__array_finalize__)\n",
      "       60    0.001    0.000    0.024    0.000 fromnumeric.py:3476(mean)\n",
      "     1196    0.001    0.000    0.001    0.000 numpy.py:330(<genexpr>)\n",
      "      240    0.001    0.000    0.001    0.000 {method 'sort' of 'list' objects}\n",
      "     1874    0.001    0.000    0.001    0.000 _methods.py:4479(<genexpr>)\n",
      "      540    0.001    0.000    0.003    0.000 _methods.py:4376(_ttype)\n",
      "       37    0.000    0.000    1.638    0.044 _methods.py:3390(to_Vector3D)\n",
      "     1620    0.000    0.000    0.003    0.000 numpy.py:1717(temporal)\n",
      "     1620    0.000    0.000    0.002    0.000 numpy.py:758(__array_finalize__)\n",
      "      937    0.000    0.000    0.001    0.000 _methods.py:4407(_from_signature)\n",
      "     1483    0.000    0.000    0.000    0.000 {method 'index' of 'list' objects}\n",
      "       15    0.000    0.000    0.000    0.000 {method '__exit__' of '_io._IOBase' objects}\n",
      "      134    0.000    0.000    0.001    0.000 models.py:324(BR_li_to_lj_a)\n",
      "      180    0.000    0.000    0.002    0.000 _methods.py:4450(_handler_of)\n",
      "       37    0.000    0.000    7.413    0.200 _methods.py:3719(unit)\n",
      "     1155    0.000    0.000    0.000    0.000 numpy.py:2023(<genexpr>)\n",
      "        1    0.000    0.000   58.649   58.649 {built-in method builtins.exec}\n",
      "      104    0.000    0.000    1.044    0.010 fromnumeric.py:51(_wrapfunc)\n",
      "      794    0.000    0.000    0.002    0.000 numpy.py:601(elements)\n",
      "      122    0.000    0.000    0.082    0.001 {method 'sum' of 'numpy.ndarray' objects}\n",
      "      180    0.000    0.000    0.000    0.000 _methods.py:4216(dim)\n",
      "      480    0.000    0.000    0.000    0.000 numpy.py:2021(<genexpr>)\n",
      "       15    0.000    0.000    0.002    0.000 exp.py:402(<dictcomp>)\n",
      "      180    0.000    0.000    0.012    0.000 _methods.py:4103(E)\n",
      "     1902    0.000    0.000    0.000    0.000 {method 'append' of 'list' objects}\n",
      "       67    0.000    0.000    0.000    0.000 models.py:339(BR_tau_to_pi_nu_a)\n",
      "      540    0.000    0.000    0.001    0.000 numpy.py:775(elements)\n",
      "       61    0.000    0.000    0.001    0.000 fromnumeric.py:69(_wrapreduction)\n",
      "      180    0.000    0.000    0.011    0.000 _methods.py:4067(px)\n",
      "      122    0.000    0.000    0.082    0.001 _methods.py:50(_sum)\n",
      "      180    0.000    0.000    0.009    0.000 _methods.py:4071(py)\n",
      "      180    0.000    0.000    0.011    0.000 _methods.py:4085(pz)\n",
      "      111    0.000    0.000    0.000    0.000 getlimits.py:487(__new__)\n",
      "      402    0.000    0.000    0.002    0.000 models.py:288(tau_BR)\n",
      "       15    0.000    0.000    0.562    0.037 exp.py:17(load_events_from_pickle)\n",
      "      123    0.000    0.000    0.000    0.000 {built-in method numpy.asarray}\n",
      "       61    0.000    0.000    0.001    0.000 fromnumeric.py:2255(sum)\n",
      "      499    0.000    0.000    0.000    0.000 {method 'keys' of 'dict' objects}\n",
      "      296    0.000    0.000    0.000    0.000 numpy.py:1587(<genexpr>)\n",
      "      180    0.000    0.000    0.000    0.000 _methods.py:4388(_lib_of)\n",
      "      134    0.000    0.000    0.001    0.000 phase_space.py:139(F_lepton_2body)\n",
      "      104    0.000    0.000    1.044    0.010 fromnumeric.py:437(repeat)\n",
      "      576    0.000    0.000    0.000    0.000 multiarray.py:1089(copyto)\n",
      "      360    0.000    0.000    0.000    0.000 contextlib.py:440(__init__)\n",
      "      172    0.000    0.000    0.000    0.000 {built-in method builtins.getattr}\n",
      "       67    0.000    0.000    0.000    0.000 models.py:342(BR_tau_to_rho_nu_a)\n",
      "       67    0.000    0.000    0.000    0.000 models.py:348(BR_tau_to_mu_nu_nu_a)\n",
      "       67    0.000    0.000    0.000    0.000 models.py:345(BR_tau_to_e_nu_nu_a)\n",
      "       15    0.000    0.000    0.000    0.000 exp.py:410(<dictcomp>)\n",
      "       15    0.000    0.000    0.000    0.000 exp.py:389(<dictcomp>)\n",
      "       61    0.000    0.000    0.000    0.000 fromnumeric.py:70(<dictcomp>)\n",
      "       64    0.000    0.000    0.000    0.000 {built-in method numpy.asanyarray}\n",
      "       37    0.000    0.000    1.639    0.044 _methods.py:3407(to_3D)\n",
      "       60    0.000    0.000    0.000    0.000 models.py:249(alp_BR)\n",
      "        3    0.000    0.000    0.000    0.000 phase_space.py:263(B1_loop)\n",
      "       60    0.000    0.000    0.000    0.000 const.py:240(get_decay_rate_in_cm)\n",
      "        1    0.000    0.000    0.000    0.000 models.py:25(__init__)\n",
      "      360    0.000    0.000    0.000    0.000 contextlib.py:446(__exit__)\n",
      "      163    0.000    0.000    0.000    0.000 {built-in method builtins.setattr}\n",
      "       60    0.000    0.000    0.000    0.000 {built-in method numpy.lib.array_utils.normalize_axis_index}\n",
      "      111    0.000    0.000    0.000    0.000 numpy.py:1425(azimuthal)\n",
      "       90    0.000    0.000    0.000    0.000 {method 'pop' of 'list' objects}\n",
      "        3    0.000    0.000    0.000    0.000 _function_base_impl.py:661(piecewise)\n",
      "      111    0.000    0.000    0.000    0.000 _type_check_impl.py:362(_nan_to_num_dispatcher)\n",
      "       15    0.000    0.000    0.000    0.000 {method 'astype' of 'numpy.ndarray' objects}\n",
      "       67    0.000    0.000    0.001    0.000 models.py:321(BR_tau_to_a_e)\n",
      "      360    0.000    0.000    0.000    0.000 contextlib.py:443(__enter__)\n",
      "      222    0.000    0.000    0.000    0.000 _ufunclike_impl.py:14(_dispatcher)\n",
      "       15    0.000    0.000    0.000    0.000 {built-in method builtins.sum}\n",
      "        2    0.000    0.000    0.000    0.000 phase_space.py:270(<lambda>)\n",
      "      111    0.000    0.000    0.000    0.000 numpy.py:1431(longitudinal)\n",
      "      129    0.000    0.000    0.000    0.000 {method 'items' of 'dict' objects}\n",
      "      184    0.000    0.000    0.000    0.000 multiarray.py:83(empty_like)\n",
      "        1    0.000    0.000    0.000    0.000 _twodim_base_impl.py:242(diag)\n",
      "       10    0.000    0.000    0.000    0.000 models.py:184(F_alp_2body)\n",
      "      180    0.000    0.000    0.000    0.000 x.py:28(xy)\n",
      "      180    0.000    0.000    0.000    0.000 y.py:28(xy)\n",
      "      180    0.000    0.000    0.000    0.000 z.py:34(xy_z)\n",
      "      180    0.000    0.000    0.000    0.000 t.py:36(xy_z_t)\n",
      "        2    0.000    0.000    0.000    0.000 ipkernel.py:770(_clean_thread_parent_frames)\n",
      "       67    0.000    0.000    0.000    0.000 models.py:318(BR_tau_to_a_mu)\n",
      "       63    0.000    0.000    0.000    0.000 numeric.py:59(_zeros_like_dispatcher)\n",
      "       60    0.000    0.000    0.000    0.000 fromnumeric.py:3471(_mean_dispatcher)\n",
      "        1    0.000    0.000    0.000    0.000 models.py:161(c_gg_eff)\n",
      "        1    0.000    0.000    0.000    0.000 threading.py:1501(enumerate)\n",
      "      104    0.000    0.000    0.000    0.000 fromnumeric.py:433(_repeat_dispatcher)\n",
      "        9    0.000    0.000    0.000    0.000 models.py:226(get_Gamma_a_to_li_lj)\n",
      "       61    0.000    0.000    0.000    0.000 fromnumeric.py:2250(_sum_dispatcher)\n",
      "        1    0.000    0.000    0.000    0.000 ipkernel.py:785(<setcomp>)\n",
      "       60    0.000    0.000    0.000    0.000 multiarray.py:361(where)\n",
      "       32    0.000    0.000    0.000    0.000 {method 'values' of 'dict' objects}\n",
      "       60    0.000    0.000    0.000    0.000 numeric.py:212(_ones_like_dispatcher)\n",
      "        3    0.000    0.000    0.000    0.000 numeric.py:1918(isscalar)\n",
      "        9    0.000    0.000    0.000    0.000 {built-in method _abc._abc_instancecheck}\n",
      "        7    0.000    0.000    0.000    0.000 threading.py:1168(ident)\n",
      "       40    0.000    0.000    0.000    0.000 {built-in method builtins.vars}\n",
      "       12    0.000    0.000    0.000    0.000 _function_base_impl.py:654(_piecewise_dispatcher)\n",
      "        1    0.000    0.000    0.000    0.000 models.py:236(get_Gamma_a_to_gg)\n",
      "        9    0.000    0.000    0.000    0.000 <frozen abc>:117(__instancecheck__)\n",
      "        1    0.000    0.000    0.000    0.000 phase_space.py:269(<lambda>)\n",
      "        3    0.000    0.000    0.000    0.000 _function_base_impl.py:343(iterable)\n",
      "        1    0.000    0.000    0.000    0.000 models.py:67(<listcomp>)\n",
      "        2    0.000    0.000    0.000    0.000 {method 'diagonal' of 'numpy.ndarray' objects}\n",
      "        1    0.000    0.000    0.000    0.000 {method 'disable' of '_lsprof.Profiler' objects}\n",
      "        1    0.000    0.000    0.000    0.000 models.py:246(get_Gamma_a_to_NN)\n",
      "        1    0.000    0.000    0.000    0.000 {method '__exit__' of '_thread.RLock' objects}\n",
      "        3    0.000    0.000    0.000    0.000 {built-in method builtins.iter}\n",
      "        1    0.000    0.000    0.000    0.000 _twodim_base_impl.py:238(_diag_dispatcher)\n",
      "        1    0.000    0.000    0.000    0.000 {built-in method builtins.abs}"
     ]
    }
   ],
   "source": [
    "%%prun\n",
    "\n",
    "alp = models.ALP(0.5, 1e8, c_lepton=np.diag([1, 1, 1]))\n",
    "\n",
    "# Creating the experimental classes\n",
    "ICARUS = exp.Experiment(NUMI_files, exp_dic=EXPERIMENTS[\"ICARUS\"], duplicate_taus=10, alp=alp)\n",
    "MICROBOONE = exp.Experiment(NUMI_files, exp_dic=EXPERIMENTS[\"MicroBooNE\"], duplicate_taus=20, alp=alp)\n",
    "NOVA = exp.Experiment(NUMI_files, exp_dic=EXPERIMENTS[\"NoVA\"], duplicate_taus=3, alp=alp)\n",
    "DUNE = exp.Experiment(NUMI_files, exp_dic=EXPERIMENTS[\"DUNE\"], duplicate_taus=5, alp=alp)\n",
    "TWOBYTWO = exp.Experiment(NUMI_files, exp_dic=EXPERIMENTS[\"TwoByTwo\"], alp=alp)\n",
    "TWOBYTWO_ABSORBER = exp.Experiment(NUMI_files, exp_dic=EXPERIMENTS[\"TwoByTwo_absorber\"], alp=alp)\n",
    "ARGONEUT = exp.Experiment(NUMI_files, exp_dic=EXPERIMENTS[\"ArgoNeuT\"], duplicate_taus=5, alp=alp)\n",
    "ARGONEUT_absorber = exp.Experiment(NUMI_files, exp_dic=EXPERIMENTS[\"ArgoNeuT_absorber\"], duplicate_taus=5, alp=alp)\n",
    "CHARM = exp.Experiment(SPS_files, exp_dic=EXPERIMENTS[\"CHARM\"], alp=alp)\n",
    "BEBC = exp.Experiment(SPS_files, exp_dic=EXPERIMENTS[\"BEBC\"], alp=alp)\n",
    "SHIP = exp.Experiment(SPS_files, exp_dic=EXPERIMENTS[\"SHiP\"], alp=alp)\n",
    "PROTODUNE_NP02 = exp.Experiment(SPS_files, exp_dic=EXPERIMENTS[\"PROTO_DUNE_NP02\"], duplicate_taus=2, alp=alp)\n",
    "PROTODUNE_NP04 = exp.Experiment(SPS_files, exp_dic=EXPERIMENTS[\"PROTO_DUNE_NP04\"], duplicate_taus=2, alp=alp)\n",
    "FASER = exp.Experiment(LHC_files, exp_dic=EXPERIMENTS[\"FASER\"], alp=alp)\n",
    "FASER2 = exp.Experiment(LHC_files, exp_dic=EXPERIMENTS[\"FASER2\"], alp=alp)"
   ]
  },
  {
   "cell_type": "code",
   "execution_count": 8,
   "id": "dcddb267",
   "metadata": {},
   "outputs": [],
   "source": [
    "exp.save_events_to_pickle(ICARUS, 'tau_events/ICARUS.pkl')\n",
    "exp.save_events_to_pickle(MICROBOONE, 'tau_events/MICROBOONE.pkl')\n",
    "exp.save_events_to_pickle(NOVA, 'tau_events/NOVA.pkl')\n",
    "exp.save_events_to_pickle(DUNE, 'tau_events/DUNE.pkl')\n",
    "exp.save_events_to_pickle(TWOBYTWO, 'tau_events/TWOBYTWO.pkl')\n",
    "exp.save_events_to_pickle(TWOBYTWO_ABSORBER, 'tau_events/TWOBYTWO_ABSORBER.pkl')\n",
    "exp.save_events_to_pickle(ARGONEUT, 'tau_events/ARGONEUT.pkl')\n",
    "exp.save_events_to_pickle(ARGONEUT_absorber, 'tau_events/ARGONEUT_absorber.pkl')\n",
    "exp.save_events_to_pickle(CHARM, 'tau_events/CHARM.pkl')\n",
    "exp.save_events_to_pickle(BEBC, 'tau_events/BEBC.pkl')\n",
    "exp.save_events_to_pickle(SHIP, 'tau_events/SHIP.pkl')\n",
    "exp.save_events_to_pickle(PROTODUNE_NP02, 'tau_events/PROTODUNE_NP02.pkl')\n",
    "exp.save_events_to_pickle(PROTODUNE_NP04, 'tau_events/PROTODUNE_NP04.pkl')\n",
    "exp.save_events_to_pickle(FASER, 'tau_events/FASER.pkl')\n",
    "exp.save_events_to_pickle(FASER2, 'tau_events/FASER2.pkl')"
   ]
  },
  {
   "cell_type": "code",
   "execution_count": 9,
   "id": "8e183e3a",
   "metadata": {},
   "outputs": [],
   "source": [
    "ICARUS_test = exp.load_events_from_pickle('tau_events/ICARUS.pkl')\n",
    "MICROBOONE_test = exp.load_events_from_pickle('tau_events/MICROBOONE.pkl')\n",
    "NOVA_test = exp.load_events_from_pickle('tau_events/NOVA.pkl')\n",
    "DUNE_test = exp.load_events_from_pickle('tau_events/DUNE.pkl')\n",
    "TWOBYTWO_test = exp.load_events_from_pickle('tau_events/TWOBYTWO.pkl')\n",
    "TWOBYTWO_ABSORBER_test = exp.load_events_from_pickle('tau_events/TWOBYTWO_ABSORBER.pkl')\n",
    "ARGONEUT_test = exp.load_events_from_pickle('tau_events/ARGONEUT.pkl')\n",
    "ARGONEUT_absorber_test = exp.load_events_from_pickle('tau_events/ARGONEUT_absorber.pkl')\n",
    "CHARM_test = exp.load_events_from_pickle('tau_events/CHARM.pkl')\n",
    "BEBC_test = exp.load_events_from_pickle('tau_events/BEBC.pkl')\n",
    "SHIP_test = exp.load_events_from_pickle('tau_events/SHIP.pkl')\n",
    "PROTODUNE_NP02_test = exp.load_events_from_pickle('tau_events/PROTODUNE_NP02.pkl')\n",
    "PROTODUNE_NP04_test = exp.load_events_from_pickle('tau_events/PROTODUNE_NP04.pkl')\n",
    "FASER_test = exp.load_events_from_pickle('tau_events/FASER.pkl')\n",
    "FASER2_test = exp.load_events_from_pickle('tau_events/FASER2.pkl')"
   ]
  },
  {
   "cell_type": "code",
   "execution_count": 347,
   "id": "80332131",
   "metadata": {},
   "outputs": [
    {
     "data": {
      "text/plain": [
       "np.float64(3.4337090829918934e-14)"
      ]
     },
     "execution_count": 347,
     "metadata": {},
     "output_type": "execute_result"
    }
   ],
   "source": [
    "CHARM.event_rate"
   ]
  },
  {
   "cell_type": "markdown",
   "id": "3ea11fba",
   "metadata": {},
   "source": [
    "# Inspect the taus/POT"
   ]
  },
  {
   "cell_type": "code",
   "execution_count": 30,
   "id": "cc15445f",
   "metadata": {},
   "outputs": [],
   "source": [
    "def get_ntaus_per_POT(event_dict, pid_mother=None):\n",
    "    \"\"\"\n",
    "    Get the number of taus per POT\n",
    "    \"\"\"\n",
    "    \n",
    "    total_weight_unmasked = event_dict['weights'].sum()\n",
    "\n",
    "    if pid_mother is not None:\n",
    "        mask = event_dict['mother_pid'] == pid_mother\n",
    "    else:\n",
    "        mask = np.ones(len(event_dict['weights']), dtype=bool)\n",
    "   \n",
    "    # Ratio of weighted events to total generated events\n",
    "    ratio = event_dict['tau_xsec_mb'] / event_dict['total_xsec_mb'] * event_dict['weights'][mask].sum() / total_weight_unmasked\n",
    "    \n",
    "    # Statistical uncertainty on the sum of weights\n",
    "    relative_uncertainty = np.sqrt((event_dict['weights'][mask]**2).sum())/event_dict['weights'][mask].sum()\n",
    "\n",
    "    # Propagate uncertainty to the ratio (assuming total_events is exact)\n",
    "    uncertainty = relative_uncertainty * ratio\n",
    "\n",
    "    xsec = event_dict['tau_xsec_mb'] * event_dict['weights'][mask].sum()/total_weight_unmasked\n",
    "    \n",
    "    return ratio, uncertainty, xsec\n",
    "\n",
    "def summarize_taus(name):\n",
    "    print(f\"\\nTau summary for {name}\")\n",
    "    files = name\n",
    "    event_dict = exp.load_events(files)\n",
    "\n",
    "    ratio, unc, xsec = get_ntaus_per_POT(event_dict,)\n",
    "    print(f\"Taus/event: {ratio:.2e} +/- {unc:.2e} --> (xsec/mb = {xsec:.2e} +/- {unc/ratio * xsec:.2e})\")\n",
    "    ratio, unc, xsec = get_ntaus_per_POT(event_dict, pid_mother=411)\n",
    "    print(f\"Taus/event (D+): {ratio:.2e} +/- {unc:.2e} --> (xsec/mb = {xsec:.2e} +/- {unc/ratio * xsec:.2e})\")\n",
    "    ratio, unc, xsec = get_ntaus_per_POT(event_dict, pid_mother=-411)\n",
    "    print(f\"Taus/event (D-): {ratio:.2e} +/- {unc:.2e} --> (xsec/mb = {xsec:.2e} +/- {unc/ratio * xsec:.2e})\")\n",
    "    ratio, unc, xsec = get_ntaus_per_POT(event_dict, pid_mother=431)\n",
    "    print(f\"Taus/event (Ds+): {ratio:.2e} +/- {unc:.2e} --> (xsec/mb = {xsec:.2e} +/- {unc/ratio * xsec:.2e})\")\n",
    "    ratio, unc, xsec = get_ntaus_per_POT(event_dict, pid_mother=-431)\n",
    "    print(f\"Taus/event (Ds-): {ratio:.2e} +/- {unc:.2e} --> (xsec/mb = {xsec:.2e} +/- {unc/ratio * xsec:.2e})\")\n",
    "    ratio, unc, xsec = get_ntaus_per_POT(event_dict, pid_mother=100443)\n",
    "    print(f\"Taus/event (psi(2S)): {ratio:.2e} +/- {unc:.2e} --> (xsec/mb = {xsec:.2e} +/- {unc/ratio * xsec:.2e})\")\n"
   ]
  },
  {
   "cell_type": "code",
   "execution_count": 31,
   "id": "94f99c8a",
   "metadata": {},
   "outputs": [
    {
     "name": "stdout",
     "output_type": "stream",
     "text": [
      "\n",
      "Tau summary for pythia8_events/soft_13.6_TeV\n",
      "Found 202 files matching pythia8_events/soft_13.6_TeV_*.txt\n",
      "Taus/event: 2.13e-03 +/- 7.83e-06 --> (xsec/mb = 2.18e-01 +/- 8.00e-04)\n",
      "Taus/event (D+): 4.69e-05 +/- 7.37e-08 --> (xsec/mb = 4.80e-03 +/- 7.53e-06)\n",
      "Taus/event (D-): 4.70e-05 +/- 7.37e-08 --> (xsec/mb = 4.81e-03 +/- 7.54e-06)\n",
      "Taus/event (Ds+): 7.40e-04 +/- 1.95e-06 --> (xsec/mb = 7.56e-02 +/- 2.00e-04)\n",
      "Taus/event (Ds-): 7.42e-04 +/- 1.96e-06 --> (xsec/mb = 7.59e-02 +/- 2.00e-04)\n",
      "Taus/event (psi(2S)): 1.90e-06 +/- 2.38e-08 --> (xsec/mb = 1.94e-04 +/- 2.43e-06)\n",
      "\n",
      "Tau summary for pythia8_events/soft_400_GeV\n",
      "Found 303 files matching pythia8_events/soft_400_GeV_*.txt\n",
      "Taus/event: 1.78e-06 +/- 2.12e-09 --> (xsec/mb = 6.87e-05 +/- 8.18e-08)\n",
      "Taus/event (D+): 5.76e-08 +/- 5.60e-11 --> (xsec/mb = 2.22e-06 +/- 2.16e-09)\n",
      "Taus/event (D-): 6.91e-08 +/- 6.13e-11 --> (xsec/mb = 2.66e-06 +/- 2.36e-09)\n",
      "Taus/event (Ds+): 7.48e-07 +/- 1.35e-09 --> (xsec/mb = 2.88e-05 +/- 5.19e-08)\n",
      "Taus/event (Ds-): 8.84e-07 +/- 1.47e-09 --> (xsec/mb = 3.41e-05 +/- 5.65e-08)\n",
      "Taus/event (psi(2S)): 1.26e-08 +/- 4.21e-11 --> (xsec/mb = 4.86e-07 +/- 1.62e-09)\n",
      "\n",
      "Tau summary for pythia8_events/soft_120_GeV\n",
      "Found 303 files matching pythia8_events/soft_120_GeV_*.txt\n",
      "Taus/event: 3.03e-07 +/- 6.14e-10 --> (xsec/mb = 7.77e-06 +/- 1.57e-08)\n",
      "Taus/event (D+): 9.76e-09 +/- 1.62e-11 --> (xsec/mb = 2.50e-07 +/- 4.14e-10)\n",
      "Taus/event (D-): 1.38e-08 +/- 1.92e-11 --> (xsec/mb = 3.54e-07 +/- 4.93e-10)\n",
      "Taus/event (Ds+): 1.15e-07 +/- 3.71e-10 --> (xsec/mb = 2.95e-06 +/- 9.51e-09)\n",
      "Taus/event (Ds-): 1.58e-07 +/- 4.35e-10 --> (xsec/mb = 4.06e-06 +/- 1.11e-08)\n",
      "Taus/event (psi(2S)): 3.61e-09 +/- 1.58e-11 --> (xsec/mb = 9.27e-08 +/- 4.05e-10)\n"
     ]
    }
   ],
   "source": [
    "### Pythia8 tau events\n",
    "# NUMI_files = 'pythia8_events/numi_120GeV.pkl'\n",
    "# SPS_files  = 'pythia8_events/sps_400GeV.pkl'\n",
    "# LHC_files  = 'pythia8_events/lhc_13.6TeV.pkl'\n",
    "NUMI_files = 'pythia8_events/soft_120_GeV'\n",
    "SPS_files  = 'pythia8_events/soft_400_GeV'\n",
    "LHC_files  = 'pythia8_events/soft_13.6_TeV'\n",
    "\n",
    "summarize_taus(LHC_files)\n",
    "summarize_taus(SPS_files)\n",
    "summarize_taus(NUMI_files)"
   ]
  },
  {
   "cell_type": "markdown",
   "id": "956ab011",
   "metadata": {},
   "source": [
    "# Generating events with simplified parameterization of the D(s) pT spectrum"
   ]
  },
  {
   "cell_type": "code",
   "execution_count": 32,
   "id": "b283844d",
   "metadata": {},
   "outputs": [],
   "source": [
    "n_cc = 4.4\n",
    "delta_n_cc = 1.6*2  \n",
    "\n",
    "b = 1.41\n",
    "delta_b = 0.4*2\n",
    "\n",
    "n_events = '1e6'\n",
    "\n",
    "dict_120 = beams.generate_taus(n_events=float(n_events), p_beam=120, n_exp=n_cc+delta_n_cc, a=0, b=b, as_dict=True)\n",
    "exp.save_events_to_pickle(dict_120, f\"tau_events/df_120GeV_{n_events}_ncentral_bcentral.pkl\")\n",
    "\n",
    "dict_120 = beams.generate_taus(n_events=float(n_events), p_beam=120, n_exp=n_cc-delta_n_cc, a=0, b=b-delta_b, as_dict=True)\n",
    "exp.save_events_to_pickle(dict_120, f\"tau_events/df_120GeV_{n_events}_nlow_blow.pkl\")\n",
    "\n",
    "dict_120 = beams.generate_taus(n_events=float(n_events), p_beam=120, n_exp=n_cc+delta_n_cc, a=0, b=b+delta_b, as_dict=True)\n",
    "exp.save_events_to_pickle(dict_120, f\"tau_events/df_120GeV_{n_events}_nhigh_bhigh.pkl\")\n",
    "\n",
    "dict_120 = beams.generate_taus(n_events=float(n_events), p_beam=120, n_exp=n_cc-delta_n_cc, a=0, b=b+delta_b, as_dict=True)\n",
    "exp.save_events_to_pickle(dict_120, f\"tau_events/df_120GeV_{n_events}_nlow_bhigh.pkl\")\n",
    "\n",
    "dict_120 = beams.generate_taus(n_events=float(n_events), p_beam=120, n_exp=n_cc+delta_n_cc, a=0, b=b-delta_b, as_dict=True)\n",
    "exp.save_events_to_pickle(dict_120, f\"tau_events/df_120GeV_{n_events}_nhigh_blow.pkl\")\n"
   ]
  },
  {
   "cell_type": "code",
   "execution_count": 31,
   "id": "2afa9d7a",
   "metadata": {},
   "outputs": [],
   "source": [
    "n_cc = 5.81\n",
    "delta_n_cc = 0.28*2\n",
    "\n",
    "b = 0.96\n",
    "delta_b = 0.06*2\n",
    "\n",
    "n_events = '1e6'\n",
    "\n",
    "dict_400 = beams.generate_taus(n_events=float(n_events), p_beam=400, n_exp=n_cc, a=0, b=b, as_dict=True)\n",
    "exp.save_events_to_pickle(dict_400, f\"tau_events/df_400GeV_{n_events}_ncentral_bcentral.pkl\")\n",
    "\n",
    "dict_400 = beams.generate_taus(n_events=float(n_events), p_beam=400, n_exp=n_cc-delta_n_cc, a=0, b=b-delta_b, as_dict=True)\n",
    "exp.save_events_to_pickle(dict_400, f\"tau_events/df_400GeV_{n_events}_nlow_blow.pkl\")\n",
    "\n",
    "dict_400 = beams.generate_taus(n_events=float(n_events), p_beam=400, n_exp=n_cc+delta_n_cc, a=0, b=b+delta_b, as_dict=True)\n",
    "exp.save_events_to_pickle(dict_400, f\"tau_events/df_400GeV_{n_events}_nhigh_bhigh.pkl\")\n",
    "\n",
    "dict_400 = beams.generate_taus(n_events=float(n_events), p_beam=400, n_exp=n_cc-delta_n_cc, a=0, b=b+delta_b, as_dict=True)\n",
    "exp.save_events_to_pickle(dict_400, f\"tau_events/df_400GeV_{n_events}_nlow_bhigh.pkl\")\n",
    "\n",
    "dict_400 = beams.generate_taus(n_events=float(n_events), p_beam=400, n_exp=n_cc+delta_n_cc, a=0, b=b-delta_b, as_dict=True)\n",
    "exp.save_events_to_pickle(dict_400, f\"tau_events/df_400GeV_{n_events}_nhigh_blow.pkl\")"
   ]
  },
  {
   "cell_type": "code",
   "execution_count": 28,
   "id": "40501b97",
   "metadata": {},
   "outputs": [],
   "source": [
    "df = exp.load_events_from_pickle(\"tau_events/df_120GeV_1e6_ncentral_bcentral.pkl\")\n",
    "df = exp.load_events_from_pickle(\"tau_events/df_400GeV_1e6_ncentral_bcentral.pkl\")"
   ]
  },
  {
   "cell_type": "code",
   "execution_count": 29,
   "id": "aed56d04",
   "metadata": {},
   "outputs": [
    {
     "data": {
      "text/plain": [
       "array([  2.32752191,  60.98290781,   4.05813152, ..., 110.38275194,\n",
       "         4.32031148,   2.28651585])"
      ]
     },
     "execution_count": 29,
     "metadata": {},
     "output_type": "execute_result"
    }
   ],
   "source": [
    "df['pz']"
   ]
  },
  {
   "cell_type": "code",
   "execution_count": 30,
   "id": "7c8d126a",
   "metadata": {},
   "outputs": [
    {
     "data": {
      "text/plain": [
       "(array([ 89302., 371200., 177332.,  96721.,  61617.,  43546.,  32660.,\n",
       "         25953.,  21636.,  18579.,  16079.,  14249.,  13043.,  11855.,\n",
       "         11017.,  10346.,   9928.,   9359.,   8853.,   8606.,   8400.,\n",
       "          8013.,   7815.,   7662.,   7557.,   7241.,   7269.,   6988.,\n",
       "          6967.,   7017.,   6771.,   6613.,   6506.,   6524.,   6485.,\n",
       "          6444.,   6394.,   6275.,   6386.,   6293.,   6266.,   6258.,\n",
       "          6383.,   6166.,   6047.,   6027.,   6021.,   5986.,   6074.,\n",
       "          5975.,   5942.,   6036.,   5969.,   6040.,   5940.,   5874.,\n",
       "          5748.,   5882.,   5855.,   5857.,   5860.,   5840.,   5965.,\n",
       "          5760.,   5877.,   5672.,   5857.,   5814.,   5787.,   5843.,\n",
       "          5782.,   5754.,   5873.,   5824.,   5707.,   5708.,   5757.,\n",
       "          5606.,   5667.,   5640.,   5703.,   5660.,   5636.,   5604.,\n",
       "          5771.,   5750.,   5670.,   5531.,   5682.,   5729.,   5533.,\n",
       "          5726.,   5658.,   5699.,   5577.,   5589.,   5601.,   5755.,\n",
       "          5651.,   5659.]),\n",
       " array([  0.,   2.,   4.,   6.,   8.,  10.,  12.,  14.,  16.,  18.,  20.,\n",
       "         22.,  24.,  26.,  28.,  30.,  32.,  34.,  36.,  38.,  40.,  42.,\n",
       "         44.,  46.,  48.,  50.,  52.,  54.,  56.,  58.,  60.,  62.,  64.,\n",
       "         66.,  68.,  70.,  72.,  74.,  76.,  78.,  80.,  82.,  84.,  86.,\n",
       "         88.,  90.,  92.,  94.,  96.,  98., 100., 102., 104., 106., 108.,\n",
       "        110., 112., 114., 116., 118., 120., 122., 124., 126., 128., 130.,\n",
       "        132., 134., 136., 138., 140., 142., 144., 146., 148., 150., 152.,\n",
       "        154., 156., 158., 160., 162., 164., 166., 168., 170., 172., 174.,\n",
       "        176., 178., 180., 182., 184., 186., 188., 190., 192., 194., 196.,\n",
       "        198., 200.]),\n",
       " [<matplotlib.patches.Polygon at 0x16c3198d0>])"
      ]
     },
     "execution_count": 30,
     "metadata": {},
     "output_type": "execute_result"
    },
    {
     "data": {
      "image/png": "[encoded data removed]",
      "text/plain": [
       "<Figure size 640x480 with 1 Axes>"
      ]
     },
     "metadata": {},
     "output_type": "display_data"
    }
   ],
   "source": [
    "import matplotlib.pyplot as plt\n",
    "plt.hist(df['pz'], bins=100, range=(0, 200), histtype='step', label='120 GeV')\n"
   ]
  }
 ],
 "metadata": {
  "kernelspec": {
   "display_name": "darknews",
   "language": "python",
   "name": "python3"
  },
  "language_info": {
   "codemirror_mode": {
    "name": "ipython",
    "version": 3
   },
   "file_extension": ".py",
   "mimetype": "text/x-python",
   "name": "python",
   "nbconvert_exporter": "python",
   "pygments_lexer": "ipython3",
   "version": "3.11.8"
  }
 },
 "nbformat": 4,
 "nbformat_minor": 5
}

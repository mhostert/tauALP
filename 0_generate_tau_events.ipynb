{
 "cells": [
  {
   "cell_type": "code",
   "execution_count": 2,
   "id": "9e2440d6",
   "metadata": {},
   "outputs": [],
   "source": [
    "%load_ext autoreload\n",
    "%autoreload 2"
   ]
  },
  {
   "cell_type": "code",
   "execution_count": 3,
   "id": "b23b9aa7",
   "metadata": {},
   "outputs": [],
   "source": [
    "import numpy as np\n",
    "\n",
    "import matplotlib.pyplot as plt\n",
    "from matplotlib.gridspec import GridSpec\n",
    "\n",
    "import pandas as pd\n",
    "from DarkNews import const\n",
    "from DarkNews import plot_tools as pt\n",
    "from DarkNews import Cfourvec as Cfv\n",
    "\n",
    "from alp import plot_tools as pt\n",
    "from alp import beams\n",
    "from alp import models\n",
    "from alp import exp\n",
    "from alp.exp_dicts import EXPERIMENTS"
   ]
  },
  {
   "cell_type": "markdown",
   "id": "6dae40d1",
   "metadata": {},
   "source": [
    "# Saving Pythia8 events to parquet files for easier use"
   ]
  },
  {
   "cell_type": "code",
   "execution_count": 5,
   "id": "01a712cc",
   "metadata": {},
   "outputs": [],
   "source": [
    "alp = models.ALP(0.1, 1e4, c_lepton=np.diag([1, 1, 1]))\n",
    "\n",
    "NUMI_files = ['pythia8_events/soft_120_GeV',\n",
    "              'pythia8_events/soft_120_GeV_3e3',\n",
    "              'pythia8_events/soft_120_GeV_2e4']\n",
    "\n",
    "SPS_files  = ['pythia8_events/soft_400_GeV',\n",
    "               'pythia8_events/soft_400_GeV_1e4',\n",
    "               'pythia8_events/soft_400_GeV_2e4']\n",
    "\n",
    "LHC_files  = ['pythia8_events/soft_13.6_TeV',\n",
    "               'pythia8_events/soft_13.6_TeV_1e4']\n",
    "\n",
    "NUMI      = exp.Experiment(NUMI_files, exp_dic=EXPERIMENTS['NoVA'], alp=alp, savemem=False)\n",
    "SPS        = exp.Experiment(SPS_files, exp_dic=EXPERIMENTS['SHiP'], alp=alp, savemem=False)\n",
    "LHC  = exp.Experiment(LHC_files, exp_dic=EXPERIMENTS['FASER'], alp=alp, savemem=False)"
   ]
  },
  {
   "cell_type": "markdown",
   "id": "579380dc",
   "metadata": {},
   "source": [
    "# Concatenate all tau Pythia files into a single DataFrame and save to file"
   ]
  },
  {
   "cell_type": "code",
   "execution_count": 6,
   "id": "bc6e8711",
   "metadata": {},
   "outputs": [],
   "source": [
    "df_numi = exp.load_events(NUMI_files)\n",
    "df_numi.to_parquet('pythia8_events/numi_120GeV.parquet', index=False)\n",
    "df_sps = exp.load_events(SPS_files)\n",
    "df_sps.to_parquet('pythia8_events/sps_400GeV.parquet', index=False)\n",
    "df_lhc = exp.load_events(LHC_files)\n",
    "df_lhc.to_parquet('pythia8_events/lhc_13.6TeV.parquet', index=False)"
   ]
  },
  {
   "cell_type": "code",
   "execution_count": 7,
   "id": "b4306fec",
   "metadata": {},
   "outputs": [
    {
     "name": "stdout",
     "output_type": "stream",
     "text": [
      "Total number of Pythia8 events: 2226589 6085287 2121099\n"
     ]
    }
   ],
   "source": [
    "print(\"Total number of Pythia8 events:\", NUMI.nevents, SPS.nevents, LHC.nevents)"
   ]
  },
  {
   "cell_type": "markdown",
   "id": "956ab011",
   "metadata": {},
   "source": [
    "# Generating events with simplified parameterization of the D(s) pT spectrum"
   ]
  },
  {
   "cell_type": "code",
   "execution_count": null,
   "id": "b283844d",
   "metadata": {},
   "outputs": [],
   "source": [
    "n_cc = 4.4\n",
    "delta_n_cc = 1.6*2  \n",
    "\n",
    "b = 1.41\n",
    "delta_b = 0.4*2\n",
    "\n",
    "n_events = '1e6'\n",
    "\n",
    "df_120 = beams.generate_taus(n_events=float(n_events), p_beam=120, n_exp=n_cc+delta_n_cc, a=0, b=b, as_dataframe=True)\n",
    "df_120.to_parquet(f\"tau_events/df_120GeV_{n_events}_ncentral_bcentral.parquet\")\n",
    "\n",
    "df_120 = beams.generate_taus(n_events=float(n_events), p_beam=120, n_exp=n_cc-delta_n_cc, a=0, b=b-delta_b, as_dataframe=True)\n",
    "df_120.to_parquet(f\"tau_events/df_120GeV_{n_events}_nlow_blow.parquet\")\n",
    "\n",
    "df_120 = beams.generate_taus(n_events=float(n_events), p_beam=120, n_exp=n_cc+delta_n_cc, a=0, b=b+delta_b, as_dataframe=True)\n",
    "df_120.to_parquet(f\"tau_events/df_120GeV_{n_events}_nhigh_bhigh.parquet\")\n",
    "\n",
    "df_120 = beams.generate_taus(n_events=float(n_events), p_beam=120, n_exp=n_cc-delta_n_cc, a=0, b=b+delta_b, as_dataframe=True)\n",
    "df_120.to_parquet(f\"tau_events/df_120GeV_{n_events}_nlow_bhigh.parquet\")\n",
    "\n",
    "df_120 = beams.generate_taus(n_events=float(n_events), p_beam=120, n_exp=n_cc+delta_n_cc, a=0, b=b-delta_b, as_dataframe=True)\n",
    "df_120.to_parquet(f\"tau_events/df_120GeV_{n_events}_nhigh_blow.parquet\")\n"
   ]
  },
  {
   "cell_type": "code",
   "execution_count": null,
   "id": "2afa9d7a",
   "metadata": {},
   "outputs": [],
   "source": [
    "n_cc = 5.81\n",
    "delta_n_cc = 0.28*2\n",
    "\n",
    "b = 0.96\n",
    "delta_b = 0.06*2\n",
    "\n",
    "n_events = '1e6'\n",
    "\n",
    "df_400 = beams.generate_taus(n_events=float(n_events), p_beam=400, n_exp=n_cc, a=0, b=b, as_dataframe=True)\n",
    "df_400.to_parquet(f\"tau_events/df_400GeV_{n_events}_ncentral_bcentral.parquet\")\n",
    "\n",
    "df_400 = beams.generate_taus(n_events=float(n_events), p_beam=400, n_exp=n_cc-delta_n_cc, a=0, b=b-delta_b, as_dataframe=True)\n",
    "df_400.to_parquet(f\"tau_events/df_400GeV_{n_events}_nlow_blow.parquet\")\n",
    "\n",
    "df_400 = beams.generate_taus(n_events=float(n_events), p_beam=400, n_exp=n_cc+delta_n_cc, a=0, b=b+delta_b, as_dataframe=True)\n",
    "df_400.to_parquet(f\"tau_events/df_400GeV_{n_events}_nhigh_bhigh.parquet\")\n",
    "\n",
    "df_400 = beams.generate_taus(n_events=float(n_events), p_beam=400, n_exp=n_cc-delta_n_cc, a=0, b=b+delta_b, as_dataframe=True)\n",
    "df_400.to_parquet(f\"tau_events/df_400GeV_{n_events}_nlow_bhigh.parquet\")\n",
    "\n",
    "df_400 = beams.generate_taus(n_events=float(n_events), p_beam=400, n_exp=n_cc+delta_n_cc, a=0, b=b-delta_b, as_dataframe=True)\n",
    "df_400.to_parquet(f\"tau_events/df_400GeV_{n_events}_nhigh_blow.parquet\")"
   ]
  },
  {
   "cell_type": "code",
   "execution_count": 13,
   "id": "40501b97",
   "metadata": {},
   "outputs": [],
   "source": [
    "df = pd.read_parquet(\"tau_events/df_120GeV_1e6_ncentral_bcentral.parquet\")\n",
    "df = pd.read_parquet(\"tau_events/df_400GeV_1e6_ncentral_bcentral.parquet\")"
   ]
  }
 ],
 "metadata": {
  "kernelspec": {
   "display_name": "darknews",
   "language": "python",
   "name": "python3"
  },
  "language_info": {
   "codemirror_mode": {
    "name": "ipython",
    "version": 3
   },
   "file_extension": ".py",
   "mimetype": "text/x-python",
   "name": "python",
   "nbconvert_exporter": "python",
   "pygments_lexer": "ipython3",
   "version": "3.11.8"
  }
 },
 "nbformat": 4,
 "nbformat_minor": 5
}

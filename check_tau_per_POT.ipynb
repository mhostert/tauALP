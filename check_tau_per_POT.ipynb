{
 "cells": [
  {
   "cell_type": "code",
   "execution_count": 1,
   "id": "09b0eaa7",
   "metadata": {},
   "outputs": [],
   "source": [
    "%load_ext autoreload\n",
    "%autoreload 2"
   ]
  },
  {
   "cell_type": "code",
   "execution_count": 21,
   "id": "ee1dcf11",
   "metadata": {},
   "outputs": [],
   "source": [
    "import numpy as np\n",
    "import matplotlib.pyplot as plt\n",
    "\n",
    "from alp import exp\n",
    "from alp import plot_tools as pt\n",
    "from alp import models\n",
    "from alp.exp_dicts import EXPERIMENTS"
   ]
  },
  {
   "cell_type": "code",
   "execution_count": 3,
   "id": "f8aa95b6",
   "metadata": {},
   "outputs": [],
   "source": [
    "def get_ntaus_per_POT(files, pid_mother=None):\n",
    "    \"\"\"\n",
    "    Get the number of taus per POT\n",
    "    \"\"\"\n",
    "    \n",
    "    df = exp.load_events(files, as_dataframe=True)\n",
    "    \n",
    "    total_weight_unmasked = df.weights.sum()\n",
    "\n",
    "    if pid_mother is not None:\n",
    "        mask = df.mother_pid == pid_mother\n",
    "    else:\n",
    "        mask = np.ones(len(df), dtype=bool)\n",
    "   \n",
    "    # Ratio of weighted events to total generated events\n",
    "    ratio = df.attrs['tau_xsec_mb'] / df.attrs['total_xsec_mb'] * df.weights[mask].sum() / total_weight_unmasked\n",
    "    \n",
    "    # Statistical uncertainty on the sum of weights\n",
    "    relative_uncertainty = np.sqrt((df.weights[mask]**2).sum())/df.weights[mask].sum()\n",
    "    \n",
    "    # Propagate uncertainty to the ratio (assuming total_events is exact)\n",
    "    uncertainty = relative_uncertainty * ratio\n",
    "    \n",
    "    xsec = df.attrs['tau_xsec_mb'] * df.weights[mask].sum()/total_weight_unmasked\n",
    "    \n",
    "    return ratio, uncertainty, xsec\n",
    "\n",
    "def get_taus(files):\n",
    "    df = exp.load_events(files, as_dataframe=True)\n",
    "    return df"
   ]
  },
  {
   "cell_type": "code",
   "execution_count": 4,
   "id": "3d5b3202",
   "metadata": {},
   "outputs": [],
   "source": [
    "def summarize_taus(name):\n",
    "    print(f\"\\nTau summary for {name}\")\n",
    "    files = name\n",
    "    ratio, unc, xsec = get_ntaus_per_POT(files, pid_mother=411)\n",
    "    print(f\"Taus/event (D+): {ratio:.2e} +/- {unc:.2e} --> (xsec/mb = {xsec:.2e} +/- {unc/ratio * xsec:.2e})\")\n",
    "    ratio, unc, xsec = get_ntaus_per_POT(files, pid_mother=-411)\n",
    "    print(f\"Taus/event (D-): {ratio:.2e} +/- {unc:.2e} --> (xsec/mb = {xsec:.2e} +/- {unc/ratio * xsec:.2e})\")\n",
    "    ratio, unc, xsec = get_ntaus_per_POT(files, pid_mother=431)\n",
    "    print(f\"Taus/event (Ds+): {ratio:.2e} +/- {unc:.2e} --> (xsec/mb = {xsec:.2e} +/- {unc/ratio * xsec:.2e})\")\n",
    "    ratio, unc, xsec = get_ntaus_per_POT(files, pid_mother=-431)\n",
    "    print(f\"Taus/event (Ds-): {ratio:.2e} +/- {unc:.2e} --> (xsec/mb = {xsec:.2e} +/- {unc/ratio * xsec:.2e})\")\n",
    "    ratio, unc, xsec = get_ntaus_per_POT(files, pid_mother=100443)\n",
    "    print(f\"Taus/event (psi(2S)): {ratio:.2e} +/- {unc:.2e} --> (xsec/mb = {xsec:.2e} +/- {unc/ratio * xsec:.2e})\")\n",
    "    ratio, unc, xsec = get_ntaus_per_POT(files,)\n",
    "    print(f\"Taus/event: {ratio:.2e} +/- {unc:.2e} --> (xsec/mb = {xsec:.2e} +/- {unc/ratio * xsec:.2e})\")"
   ]
  },
  {
   "cell_type": "code",
   "execution_count": 5,
   "id": "2382d285",
   "metadata": {},
   "outputs": [
    {
     "name": "stdout",
     "output_type": "stream",
     "text": [
      "\n",
      "Tau summary for ['pythia8_events/soft_test_LHC13.6TeV_pt1TeV_weighted']\n",
      "Taus/event (D+): 7.79e-04 +/- 4.58e-06 --> (xsec/mb = 7.97e-02 +/- 4.68e-04)\n",
      "Taus/event (D-): 7.85e-04 +/- 4.59e-06 --> (xsec/mb = 8.03e-02 +/- 4.70e-04)\n",
      "Taus/event (Ds+): 2.81e-04 +/- 2.75e-06 --> (xsec/mb = 2.87e-02 +/- 2.81e-04)\n",
      "Taus/event (Ds-): 2.75e-04 +/- 2.72e-06 --> (xsec/mb = 2.82e-02 +/- 2.78e-04)\n",
      "Taus/event (psi(2S)): 1.22e-05 +/- 5.75e-07 --> (xsec/mb = 1.25e-03 +/- 5.88e-05)\n",
      "Taus/event: 2.14e-03 +/- 7.59e-06 --> (xsec/mb = 2.19e-01 +/- 7.76e-04)\n",
      "\n",
      "Tau summary for ['pythia8_events/soft_SPS_400GeV_pt1TeV', 'pythia8_events/soft_SPS_400GeV_pt1TeV_v2', 'pythia8_events/soft_SPS_400GeV_pt1TeV_v3']\n",
      "Taus/event (D+): 5.96e-07 +/- 5.12e-09 --> (xsec/mb = 2.37e-05 +/- 2.04e-07)\n",
      "Taus/event (D-): 7.45e-07 +/- 5.73e-09 --> (xsec/mb = 2.97e-05 +/- 2.28e-07)\n",
      "Taus/event (Ds+): 1.69e-07 +/- 2.73e-09 --> (xsec/mb = 6.72e-06 +/- 1.09e-07)\n",
      "Taus/event (Ds-): 2.02e-07 +/- 2.99e-09 --> (xsec/mb = 8.06e-06 +/- 1.19e-07)\n",
      "Taus/event (psi(2S)): 4.43e-08 +/- 1.40e-09 --> (xsec/mb = 1.76e-06 +/- 5.56e-08)\n",
      "Taus/event: 1.76e-06 +/- 8.79e-09 --> (xsec/mb = 7.00e-05 +/- 3.51e-07)\n",
      "\n",
      "Tau summary for ['pythia8_events/soft_NuMI_120GeV_pt1TeV', 'pythia8_events/soft_NuMI_120GeV_pt1TeV_v2', 'pythia8_events/soft_NuMI_120GeV_pt1TeV_v3', 'pythia8_events/soft_SPS_120GeV_pt1TeV']\n",
      "Taus/event (D+): 9.44e-08 +/- 4.30e-10 --> (xsec/mb = 3.63e-06 +/- 1.65e-08)\n",
      "Taus/event (D-): 1.33e-07 +/- 5.10e-10 --> (xsec/mb = 5.11e-06 +/- 1.96e-08)\n",
      "Taus/event (Ds+): 2.45e-08 +/- 2.19e-10 --> (xsec/mb = 9.44e-07 +/- 8.43e-09)\n",
      "Taus/event (Ds-): 3.36e-08 +/- 2.57e-10 --> (xsec/mb = 1.29e-06 +/- 9.87e-09)\n",
      "Taus/event (psi(2S)): 1.30e-08 +/- 1.60e-10 --> (xsec/mb = 4.99e-07 +/- 6.14e-09)\n",
      "Taus/event: 2.98e-07 +/- 7.64e-10 --> (xsec/mb = 1.15e-05 +/- 2.94e-08)\n"
     ]
    }
   ],
   "source": [
    "NUMI_files = ['pythia8_events/soft_NuMI_120GeV_pt1TeV','pythia8_events/soft_NuMI_120GeV_pt1TeV_v2','pythia8_events/soft_NuMI_120GeV_pt1TeV_v3','pythia8_events/soft_SPS_120GeV_pt1TeV']\n",
    "SPS_files  = ['pythia8_events/soft_SPS_400GeV_pt1TeV','pythia8_events/soft_SPS_400GeV_pt1TeV_v2','pythia8_events/soft_SPS_400GeV_pt1TeV_v3']\n",
    "LHC_files  = ['pythia8_events/soft_test_LHC13.6TeV_pt1TeV_weighted']\n",
    "\n",
    "summarize_taus(LHC_files)\n",
    "summarize_taus(SPS_files)\n",
    "summarize_taus(NUMI_files)"
   ]
  },
  {
   "cell_type": "code",
   "execution_count": 6,
   "id": "a8986ab8",
   "metadata": {},
   "outputs": [],
   "source": [
    "df_w = exp.load_events(['pythia8_events/soft_NuMI_120GeV_pt1TeV','pythia8_events/soft_SPS_120GeV_pt1TeV'], as_dataframe=True)"
   ]
  },
  {
   "cell_type": "code",
   "execution_count": 7,
   "id": "4253e772",
   "metadata": {},
   "outputs": [
    {
     "data": {
      "text/plain": [
       "Text(0, 0.5, 'Events/POT')"
      ]
     },
     "execution_count": 7,
     "metadata": {},
     "output_type": "execute_result"
    },
    {
     "data": {
      "image/png": "[encoded data removed]",
      "text/plain": [
       "<Figure size 444x307.021 with 1 Axes>"
      ]
     },
     "metadata": {},
     "output_type": "display_data"
    }
   ],
   "source": [
    "fig, ax = pt.std_fig()\n",
    "\n",
    "b = np.geomspace(1e-2, 50, 50)\n",
    "\n",
    "df_w = exp.load_events('pythia8_events/soft_test_LHC13.6TeV_pt1TeV_weighted', as_dataframe=True)\n",
    "pT = np.sqrt(df_w.px**2 + df_w.py**2)\n",
    "w = df_w.weights\n",
    "ax.hist(pT, weights=w/w.sum(), bins=b, histtype='step', alpha=1, label='LHC', color='orange', lw=1.5, ls='-')\n",
    "\n",
    "\n",
    "df_w = exp.load_events('pythia8_events/soft_SPS_400GeV_pt1TeV', as_dataframe=True)\n",
    "pT = np.sqrt(df_w.px**2 + df_w.py**2)\n",
    "w = df_w.weights\n",
    "ax.hist(pT, weights=w/w.sum(), bins=b, histtype='step', alpha=1, label='SPS', color='dodgerblue', lw=1.5, ls='--')\n",
    "\n",
    "df_w = exp.load_events('pythia8_events/soft_NuMI_120GeV_pt1TeV', as_dataframe=True)\n",
    "pT = np.sqrt(df_w.px**2 + df_w.py**2)\n",
    "w = df_w.weights\n",
    "ax.hist(pT, weights=w/w.sum(), bins=b, histtype='step', alpha=1, label='NuMI', color='green', lw=1.5, ls=':')\n",
    "\n",
    "\n",
    "ax.legend()\n",
    "\n",
    "ax.set_xscale('log')\n",
    "ax.set_yscale('log')\n",
    "ax.set_xlabel(r'$p_T^{\\tau}$ [GeV]')\n",
    "ax.set_ylabel('Events/POT')\n",
    "# ax.set_ylim(1e-15, 1e-7)\n",
    "\n",
    "# fig.savefig('plots/taus_pt.pdf', bbox_inches='tight')"
   ]
  }
 ],
 "metadata": {
  "kernelspec": {
   "display_name": "darknews",
   "language": "python",
   "name": "python3"
  },
  "language_info": {
   "codemirror_mode": {
    "name": "ipython",
    "version": 3
   },
   "file_extension": ".py",
   "mimetype": "text/x-python",
   "name": "python",
   "nbconvert_exporter": "python",
   "pygments_lexer": "ipython3",
   "version": "3.11.8"
  }
 },
 "nbformat": 4,
 "nbformat_minor": 5
}

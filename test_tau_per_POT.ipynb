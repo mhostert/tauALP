{
 "cells": [
  {
   "cell_type": "code",
   "execution_count": 1,
   "id": "09b0eaa7",
   "metadata": {},
   "outputs": [],
   "source": [
    "%load_ext autoreload\n",
    "%autoreload 2"
   ]
  },
  {
   "cell_type": "code",
   "execution_count": 2,
   "id": "ee1dcf11",
   "metadata": {},
   "outputs": [],
   "source": [
    "import numpy as np\n",
    "import matplotlib.pyplot as plt\n",
    "\n",
    "from alp import const\n",
    "from alp import plot_tools as pt\n",
    "\n",
    "from alp import exp, models"
   ]
  },
  {
   "cell_type": "code",
   "execution_count": 3,
   "id": "f8aa95b6",
   "metadata": {},
   "outputs": [],
   "source": [
    "def get_ntaus_per_POT(files, pid_mother=None):\n",
    "    \"\"\"\n",
    "    Get the number of taus per POT\n",
    "    \"\"\"\n",
    "    \n",
    "    df = exp.load_events(files, as_dataframe=True)\n",
    "    if pid_mother is not None:\n",
    "        mask = df.mother_pid == pid_mother\n",
    "    else:\n",
    "        mask = np.ones(len(df), dtype=bool)\n",
    "    # Apply the mask to weights\n",
    "    weights = df.weights[mask]\n",
    "    \n",
    "    # Sum of weights in the masked region\n",
    "    total_weight = weights.sum()\n",
    "    \n",
    "    # Number of simulated events (assuming max event_number is the total number of generated events)\n",
    "    total_events = df.event_number.max()\n",
    "    \n",
    "    # Ratio of weighted events to total generated events\n",
    "    ratio = total_weight / total_events\n",
    "    \n",
    "    # Statistical uncertainty on the sum of weights\n",
    "    weight_uncertainty = np.sqrt((weights**2).sum())\n",
    "    \n",
    "    # Propagate uncertainty to the ratio (assuming total_events is exact)\n",
    "    uncertainty = weight_uncertainty / total_events\n",
    "\n",
    "    return ratio, uncertainty\n",
    "\n",
    "def get_nparticles_per_POT(files, pid=431):\n",
    "    \"\"\"\n",
    "    Get the number of taus per POT\n",
    "    \"\"\"\n",
    "    \n",
    "    df = exp.load_events(files, as_dataframe=True)\n",
    "    \n",
    "    mask = df.mother_pid == pid\n",
    "    ratio = mask.sum()/df.event_number.max()\n",
    "    \n",
    "    print(f\"{ratio:.2e}\")\n",
    "\n",
    "def get_taus(files):\n",
    "    df = exp.load_events(files, as_dataframe=True)\n",
    "    return df\n",
    "\n",
    "\n",
    "def get_protons(files):\n",
    "    df = exp.load_events(files, as_dataframe=True, apply_BR_weights=False)\n",
    "    return df\n"
   ]
  },
  {
   "cell_type": "code",
   "execution_count": 4,
   "id": "3d5b3202",
   "metadata": {},
   "outputs": [],
   "source": [
    "def summarize_taus(name):\n",
    "    print(f\"\\nTau summary for {name}\")\n",
    "    files = [f\"pythia8_events/tau_events_{name}_{i}.txt\" for i in range(0, 8)]\n",
    "    ratio, unc = get_ntaus_per_POT(files, pid_mother=431)\n",
    "    print(f\"Taus/POT (Ds+): {ratio:.2e} +/- {unc:.2e}\")\n",
    "    ratio, unc = get_ntaus_per_POT(files, pid_mother=-431)\n",
    "    print(f\"Taus/POT (Ds-): {ratio:.2e} +/- {unc:.2e}\")\n",
    "    ratio, unc = get_ntaus_per_POT(files, pid_mother=100443)\n",
    "    print(f\"Taus/POT (psi(2S)): {ratio:.2e} +/- {unc:.2e}\")\n",
    "    ratio, unc = get_ntaus_per_POT(files)\n",
    "    print(f\"Taus/POT: {ratio:.2e} +/- {unc:.2e}\")"
   ]
  },
  {
   "cell_type": "code",
   "execution_count": 6,
   "id": "a117f587",
   "metadata": {},
   "outputs": [
    {
     "name": "stdout",
     "output_type": "stream",
     "text": [
      "\n",
      "Tau summary for 120GeV_HardOff_pT0.0001_v2\n",
      "Taus/POT (Ds+): 1.15e-07 +/- 1.15e-09\n",
      "Taus/POT (Ds-): 1.56e-07 +/- 1.34e-09\n",
      "Taus/POT (psi(2S)): 3.53e-09 +/- 4.84e-11\n",
      "Taus/POT: 2.98e-07 +/- 1.77e-09\n"
     ]
    }
   ],
   "source": [
    "# summarize_taus('120GeV_test')\n",
    "\n",
    "# summarize_taus('120GeV_BothOn_pT1.0')\n",
    "\n",
    "summarize_taus('120GeV_HardOff_pT0.0001_v2')\n",
    "# summarize_taus('120GeV_HardOff_pT0.01')\n",
    "# summarize_taus('120GeV_HardOff_pT1.0')\n",
    "\n",
    "# summarize_taus('120GeV_SoftOff_pT0.01')\n",
    "# summarize_taus('120GeV_SoftOff_pT1.0')"
   ]
  },
  {
   "cell_type": "code",
   "execution_count": null,
   "id": "3a688854",
   "metadata": {},
   "outputs": [
    {
     "name": "stdout",
     "output_type": "stream",
     "text": [
      "\n",
      "Tau summary for 400GeV_HardOff_pT0.0001\n",
      "Taus/POT (Ds+): 7.54e-07 +/- 8.52e-09\n",
      "Taus/POT (Ds-): 8.99e-07 +/- 9.30e-09\n",
      "Taus/POT (psi(2S)): 1.29e-08 +/- 2.67e-10\n",
      "Taus/POT: 1.79e-06 +/- 1.26e-08\n"
     ]
    }
   ],
   "source": [
    "summarize_taus('400GeV_soft')\n",
    "summarize_taus('400GeV_hard')\n"
   ]
  },
  {
   "cell_type": "code",
   "execution_count": 59,
   "id": "b9e09364",
   "metadata": {},
   "outputs": [],
   "source": [
    "df = get_taus([f\"pythia8_events/tau_events_30GeV_HardOff_pT0.0001_{i}.txt\" for i in range(0, 8)])"
   ]
  },
  {
   "cell_type": "code",
   "execution_count": 66,
   "id": "a34e1622",
   "metadata": {},
   "outputs": [
    {
     "name": "stderr",
     "output_type": "stream",
     "text": [
      "/opt/homebrew/Caskroom/miniforge/base/envs/darknews/lib/python3.11/site-packages/numpy/lib/_function_base_impl.py:777: ComplexWarning: Casting complex values to real discards the imaginary part\n",
      "  y[cond] = func(vals, *args, **kw)\n"
     ]
    }
   ],
   "source": [
    "alp = models.ALP(0.5, 1e8)\n",
    "\n",
    "### Pythia8 tau events\n",
    "JPARC_files  = [f\"pythia8_events/tau_events_30GeV_HardOff_pT0.0001_{i}.txt\" for i in range(0, 8)]\n",
    "\n",
    "### Creating the experimental classes \n",
    "ND280      = exp.Experiment(JPARC_files, exp_dic=exp.ND280_exp, alp=alp, duplicate_taus=10)"
   ]
  },
  {
   "cell_type": "code",
   "execution_count": 71,
   "id": "49e510ec",
   "metadata": {},
   "outputs": [
    {
     "data": {
      "text/plain": [
       "np.float64(0.474285381087096)"
      ]
     },
     "execution_count": 71,
     "metadata": {},
     "output_type": "execute_result"
    }
   ],
   "source": [
    "ND280.event_rate"
   ]
  },
  {
   "cell_type": "code",
   "execution_count": 60,
   "id": "6e8d0081",
   "metadata": {},
   "outputs": [
    {
     "data": {
      "image/png": "[encoded data removed]",
      "text/plain": [
       "<Figure size 444x307.021 with 1 Axes>"
      ]
     },
     "metadata": {},
     "output_type": "display_data"
    }
   ],
   "source": [
    "b = np.linspace(0, 30, 20)\n",
    "_=plt.hist(df['E'], bins=b, weights=df['weights'], histtype='step', label='E')\n",
    "plt.xlabel('E (GeV)')\n",
    "plt.ylabel('Counts')\n",
    "plt.legend()\n",
    "plt.yscale('log')"
   ]
  },
  {
   "cell_type": "code",
   "execution_count": null,
   "id": "088009b5",
   "metadata": {},
   "outputs": [],
   "source": []
  },
  {
   "cell_type": "markdown",
   "id": "ce9aca99",
   "metadata": {},
   "source": [
    "# Proton stuff"
   ]
  },
  {
   "cell_type": "code",
   "execution_count": 6,
   "id": "27cb46ac",
   "metadata": {},
   "outputs": [
    {
     "name": "stderr",
     "output_type": "stream",
     "text": [
      "/var/folders/dl/ccbsfs591r1fhgcws28m8xy40000gn/T/ipykernel_63052/4183004247.py:12: UserWarning: This figure includes Axes that are not compatible with tight_layout, so results might be incorrect.\n",
      "  fig.tight_layout()\n"
     ]
    },
    {
     "data": {
      "text/plain": [
       "3.4828478579999995"
      ]
     },
     "execution_count": 6,
     "metadata": {},
     "output_type": "execute_result"
    },
    {
     "data": {
      "image/png": "[encoded data removed]",
      "text/plain": [
       "<Figure size 444x307.021 with 1 Axes>"
      ]
     },
     "metadata": {},
     "output_type": "display_data"
    }
   ],
   "source": [
    "df = get_protons([f\"pythia8_events/proton_events_120GeV_{i}.txt\" for i in range(0, 8)])\n",
    "\n",
    "bins = np.linspace(0.0, 1.0001, 1001, endpoint=True)\n",
    "fig, ax = pt.std_fig()\n",
    "_=ax.hist(df.E/120, weights=df.weights, bins=bins, histtype=\"step\", color=\"dodgerblue\", lw=2, label=\"120 GeV protons\")\n",
    "\n",
    "ax.set_xlabel(r\"$E_{p}/E_{p}^{\\mathrm{beam}}$\")\n",
    "ax.set_ylabel(r\"$\\mathrm{d}N/\\mathrm{d}E_{p}$\")\n",
    "ax.set_title(\"Proton energy distribution\")\n",
    "ax.set_xlim(bins.min(), bins.max())\n",
    "ax.set_yscale(\"log\")\n",
    "fig.tight_layout()\n",
    "\n",
    "barn = 1e-24 # cm^2\n",
    "sigma = 0.87*38e-3 * barn # cm^2\n",
    "n = 1.78 * 6.23 * 1e23 # cm^-3\n",
    "L = 95 # cm\n",
    "\n",
    "# 1 - np.exp(-n*L*sigma)\n",
    "n*L*sigma\n"
   ]
  },
  {
   "cell_type": "code",
   "execution_count": null,
   "id": "af6c2a4d",
   "metadata": {},
   "outputs": [],
   "source": [
    "get_nparticles_per_POT([f\"pythia8_events/tau_events_400GeV_{i}.txt\" for i in range(0, 8)], pid=[15,-15])\n",
    "get_nparticles_per_POT([f\"pythia8_events/tau_events_NuMI_120GeV_v5_{i}.txt\" for i in range(0, 8)], pid=[15,-15])\n",
    "get_nparticles_per_POT([f\"pythia8_events/tau_events_100GeV_{i}.txt\" for i in range(0, 8)], pid=[15,-15])\n",
    "get_nparticles_per_POT([f\"pythia8_events/tau_events_80GeV_{i}.txt\" for i in range(0, 8)], pid=[15,-15])"
   ]
  }
 ],
 "metadata": {
  "kernelspec": {
   "display_name": "darknews",
   "language": "python",
   "name": "python3"
  },
  "language_info": {
   "codemirror_mode": {
    "name": "ipython",
    "version": 3
   },
   "file_extension": ".py",
   "mimetype": "text/x-python",
   "name": "python",
   "nbconvert_exporter": "python",
   "pygments_lexer": "ipython3",
   "version": "3.11.8"
  }
 },
 "nbformat": 4,
 "nbformat_minor": 5
}
